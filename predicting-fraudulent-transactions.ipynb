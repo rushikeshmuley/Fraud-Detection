{
 "cells": [
  {
   "cell_type": "code",
   "execution_count": 1,
   "id": "66eee55b",
   "metadata": {
    "_cell_guid": "b1076dfc-b9ad-4769-8c92-a6c4dae69d19",
    "_uuid": "8f2839f25d086af736a60e9eeb907d3b93b6e0e5",
    "execution": {
     "iopub.execute_input": "2022-03-22T05:08:53.232870Z",
     "iopub.status.busy": "2022-03-22T05:08:53.230876Z",
     "iopub.status.idle": "2022-03-22T05:08:56.830383Z",
     "shell.execute_reply": "2022-03-22T05:08:56.829047Z",
     "shell.execute_reply.started": "2022-03-22T04:26:28.687816Z"
    },
    "papermill": {
     "duration": 3.639633,
     "end_time": "2022-03-22T05:08:56.830590",
     "exception": false,
     "start_time": "2022-03-22T05:08:53.190957",
     "status": "completed"
    },
    "tags": []
   },
   "outputs": [
    {
     "data": {
      "text/html": [
       "<style type='text/css'>\n",
       ".datatable table.frame { margin-bottom: 0; }\n",
       ".datatable table.frame thead { border-bottom: none; }\n",
       ".datatable table.frame tr.coltypes td {  color: #FFFFFF;  line-height: 6px;  padding: 0 0.5em;}\n",
       ".datatable .bool    { background: #DDDD99; }\n",
       ".datatable .object  { background: #565656; }\n",
       ".datatable .int     { background: #5D9E5D; }\n",
       ".datatable .float   { background: #4040CC; }\n",
       ".datatable .str     { background: #CC4040; }\n",
       ".datatable .time    { background: #40CC40; }\n",
       ".datatable .row_index {  background: var(--jp-border-color3);  border-right: 1px solid var(--jp-border-color0);  color: var(--jp-ui-font-color3);  font-size: 9px;}\n",
       ".datatable .frame tbody td { text-align: left; }\n",
       ".datatable .frame tr.coltypes .row_index {  background: var(--jp-border-color0);}\n",
       ".datatable th:nth-child(2) { padding-left: 12px; }\n",
       ".datatable .hellipsis {  color: var(--jp-cell-editor-border-color);}\n",
       ".datatable .vellipsis {  background: var(--jp-layout-color0);  color: var(--jp-cell-editor-border-color);}\n",
       ".datatable .na {  color: var(--jp-cell-editor-border-color);  font-size: 80%;}\n",
       ".datatable .sp {  opacity: 0.25;}\n",
       ".datatable .footer { font-size: 9px; }\n",
       ".datatable .frame_dimensions {  background: var(--jp-border-color3);  border-top: 1px solid var(--jp-border-color0);  color: var(--jp-ui-font-color3);  display: inline-block;  opacity: 0.6;  padding: 1px 10px 1px 5px;}\n",
       "</style>\n"
      ],
      "text/plain": [
       "<IPython.core.display.HTML object>"
      ]
     },
     "metadata": {},
     "output_type": "display_data"
    }
   ],
   "source": [
    "import numpy as np\n",
    "import pandas as pd\n",
    "import matplotlib.pyplot as plt\n",
    "import seaborn as sns\n",
    "sns.set_style('darkgrid')\n",
    "plt.style.use('dark_background')\n",
    "import warnings\n",
    "warnings.filterwarnings('ignore')\n",
    "from sklearn.preprocessing import LabelEncoder\n",
    "label = LabelEncoder()\n",
    "\n",
    "# Splitting Train-Test data\n",
    "from sklearn.model_selection import train_test_split\n",
    "\n",
    "# For Cross Validation\n",
    "from sklearn.model_selection import StratifiedKFold\n",
    "from sklearn.metrics import accuracy_score\n",
    "\n",
    "# For showing Progress Bar\n",
    "from tqdm.notebook import tqdm\n",
    "\n",
    "# Models\n",
    "import optuna\n",
    "import xgboost as xgb\n",
    "import lightgbm as lgbm\n",
    "import catboost as catb"
   ]
  },
  {
   "cell_type": "code",
   "execution_count": 2,
   "id": "f36b0b29",
   "metadata": {
    "execution": {
     "iopub.execute_input": "2022-03-22T05:08:56.905202Z",
     "iopub.status.busy": "2022-03-22T05:08:56.904174Z",
     "iopub.status.idle": "2022-03-22T05:08:56.913292Z",
     "shell.execute_reply": "2022-03-22T05:08:56.913964Z",
     "shell.execute_reply.started": "2022-03-22T04:27:31.153039Z"
    },
    "papermill": {
     "duration": 0.048457,
     "end_time": "2022-03-22T05:08:56.914151",
     "exception": false,
     "start_time": "2022-03-22T05:08:56.865694",
     "status": "completed"
    },
    "tags": []
   },
   "outputs": [],
   "source": [
    "def outlier_viz(col):\n",
    "    '''Distribution and Boxplot for Outlier Detection by @kartik2khandelwal'''\n",
    "    import random\n",
    "    color = random.choice(['r', 'g', 'b'])\n",
    "    fig, ax = plt.subplots(1,2,figsize=(15,5))\n",
    "    sns.distplot(col, ax=ax[0], color=color)\n",
    "    sns.boxplot(col, ax=ax[1], color=color)\n",
    "    plt.suptitle('Distribution & Boxplot for Outlier Detection')\n",
    "    fig.show()\n",
    "    return None\n",
    "\n",
    "def my_print(s):\n",
    "    '''Custom print function by @kartik2khandelwal :)'''\n",
    "    a = 4\n",
    "    for i in s:\n",
    "        a+=1\n",
    "    return print('-' * a + '\\n' + '| ' + s + ' |' + '\\n' + '-' * a)"
   ]
  },
  {
   "cell_type": "code",
   "execution_count": 3,
   "id": "8f63082b",
   "metadata": {
    "execution": {
     "iopub.execute_input": "2022-03-22T05:08:56.992134Z",
     "iopub.status.busy": "2022-03-22T05:08:56.991406Z",
     "iopub.status.idle": "2022-03-22T05:09:17.201666Z",
     "shell.execute_reply": "2022-03-22T05:09:17.202371Z",
     "shell.execute_reply.started": "2022-03-22T04:17:47.146484Z"
    },
    "papermill": {
     "duration": 20.252343,
     "end_time": "2022-03-22T05:09:17.202559",
     "exception": false,
     "start_time": "2022-03-22T05:08:56.950216",
     "status": "completed"
    },
    "tags": []
   },
   "outputs": [],
   "source": [
    "df = pd.read_csv('../input/fraudulent-transactions-data/Fraud.csv')"
   ]
  },
  {
   "cell_type": "markdown",
   "id": "096dd949",
   "metadata": {
    "papermill": {
     "duration": 0.034534,
     "end_time": "2022-03-22T05:09:17.272009",
     "exception": false,
     "start_time": "2022-03-22T05:09:17.237475",
     "status": "completed"
    },
    "tags": []
   },
   "source": [
    "step - maps a unit of time in the real world. In this case 1 step is 1 hour of time. Total steps 744 (30 days simulation).\n",
    "\n",
    "type - CASH-IN, CASH-OUT, DEBIT, PAYMENT and TRANSFER.\n",
    "\n",
    "amount - amount of the transaction in local currency.\n",
    "\n",
    "nameOrig - customer who started the transaction\n",
    "\n",
    "oldbalanceOrg - initial balance before the transaction\n",
    "\n",
    "newbalanceOrig - new balance after the transaction\n",
    "\n",
    "nameDest - customer who is the recipient of the transaction\n",
    "\n",
    "oldbalanceDest - initial balance recipient before the transaction. Note that there is not information for customers that start with M (Merchants).\n",
    "\n",
    "newbalanceDest - new balance recipient after the transaction. Note that there is not information for customers that start with M (Merchants).\n",
    "\n",
    "isFraud - This is the transactions made by the fraudulent agents inside the simulation. In this specific dataset the fraudulent behavior of the agents aims to profit by taking control or customers accounts and try to empty the funds by transferring to another account and then cashing out of the system.\n",
    "\n",
    "isFlaggedFraud - The business model aims to control massive transfers from one account to another and flags illegal attempts. An illegal attempt in this dataset is an attempt to transfer more than 200.000 in a single transaction."
   ]
  },
  {
   "cell_type": "code",
   "execution_count": 4,
   "id": "8cc1534e",
   "metadata": {
    "execution": {
     "iopub.execute_input": "2022-03-22T05:09:17.345834Z",
     "iopub.status.busy": "2022-03-22T05:09:17.344855Z",
     "iopub.status.idle": "2022-03-22T05:09:17.369325Z",
     "shell.execute_reply": "2022-03-22T05:09:17.368720Z",
     "shell.execute_reply.started": "2022-03-22T04:18:04.761185Z"
    },
    "papermill": {
     "duration": 0.060492,
     "end_time": "2022-03-22T05:09:17.369464",
     "exception": false,
     "start_time": "2022-03-22T05:09:17.308972",
     "status": "completed"
    },
    "tags": []
   },
   "outputs": [
    {
     "data": {
      "text/html": [
       "<div>\n",
       "<style scoped>\n",
       "    .dataframe tbody tr th:only-of-type {\n",
       "        vertical-align: middle;\n",
       "    }\n",
       "\n",
       "    .dataframe tbody tr th {\n",
       "        vertical-align: top;\n",
       "    }\n",
       "\n",
       "    .dataframe thead th {\n",
       "        text-align: right;\n",
       "    }\n",
       "</style>\n",
       "<table border=\"1\" class=\"dataframe\">\n",
       "  <thead>\n",
       "    <tr style=\"text-align: right;\">\n",
       "      <th></th>\n",
       "      <th>step</th>\n",
       "      <th>type</th>\n",
       "      <th>amount</th>\n",
       "      <th>nameOrig</th>\n",
       "      <th>oldbalanceOrg</th>\n",
       "      <th>newbalanceOrig</th>\n",
       "      <th>nameDest</th>\n",
       "      <th>oldbalanceDest</th>\n",
       "      <th>newbalanceDest</th>\n",
       "      <th>isFraud</th>\n",
       "      <th>isFlaggedFraud</th>\n",
       "    </tr>\n",
       "  </thead>\n",
       "  <tbody>\n",
       "    <tr>\n",
       "      <th>0</th>\n",
       "      <td>1</td>\n",
       "      <td>PAYMENT</td>\n",
       "      <td>9839.64</td>\n",
       "      <td>C1231006815</td>\n",
       "      <td>170136.0</td>\n",
       "      <td>160296.36</td>\n",
       "      <td>M1979787155</td>\n",
       "      <td>0.0</td>\n",
       "      <td>0.0</td>\n",
       "      <td>0</td>\n",
       "      <td>0</td>\n",
       "    </tr>\n",
       "    <tr>\n",
       "      <th>1</th>\n",
       "      <td>1</td>\n",
       "      <td>PAYMENT</td>\n",
       "      <td>1864.28</td>\n",
       "      <td>C1666544295</td>\n",
       "      <td>21249.0</td>\n",
       "      <td>19384.72</td>\n",
       "      <td>M2044282225</td>\n",
       "      <td>0.0</td>\n",
       "      <td>0.0</td>\n",
       "      <td>0</td>\n",
       "      <td>0</td>\n",
       "    </tr>\n",
       "    <tr>\n",
       "      <th>2</th>\n",
       "      <td>1</td>\n",
       "      <td>TRANSFER</td>\n",
       "      <td>181.00</td>\n",
       "      <td>C1305486145</td>\n",
       "      <td>181.0</td>\n",
       "      <td>0.00</td>\n",
       "      <td>C553264065</td>\n",
       "      <td>0.0</td>\n",
       "      <td>0.0</td>\n",
       "      <td>1</td>\n",
       "      <td>0</td>\n",
       "    </tr>\n",
       "    <tr>\n",
       "      <th>3</th>\n",
       "      <td>1</td>\n",
       "      <td>CASH_OUT</td>\n",
       "      <td>181.00</td>\n",
       "      <td>C840083671</td>\n",
       "      <td>181.0</td>\n",
       "      <td>0.00</td>\n",
       "      <td>C38997010</td>\n",
       "      <td>21182.0</td>\n",
       "      <td>0.0</td>\n",
       "      <td>1</td>\n",
       "      <td>0</td>\n",
       "    </tr>\n",
       "    <tr>\n",
       "      <th>4</th>\n",
       "      <td>1</td>\n",
       "      <td>PAYMENT</td>\n",
       "      <td>11668.14</td>\n",
       "      <td>C2048537720</td>\n",
       "      <td>41554.0</td>\n",
       "      <td>29885.86</td>\n",
       "      <td>M1230701703</td>\n",
       "      <td>0.0</td>\n",
       "      <td>0.0</td>\n",
       "      <td>0</td>\n",
       "      <td>0</td>\n",
       "    </tr>\n",
       "  </tbody>\n",
       "</table>\n",
       "</div>"
      ],
      "text/plain": [
       "   step      type    amount     nameOrig  oldbalanceOrg  newbalanceOrig  \\\n",
       "0     1   PAYMENT   9839.64  C1231006815       170136.0       160296.36   \n",
       "1     1   PAYMENT   1864.28  C1666544295        21249.0        19384.72   \n",
       "2     1  TRANSFER    181.00  C1305486145          181.0            0.00   \n",
       "3     1  CASH_OUT    181.00   C840083671          181.0            0.00   \n",
       "4     1   PAYMENT  11668.14  C2048537720        41554.0        29885.86   \n",
       "\n",
       "      nameDest  oldbalanceDest  newbalanceDest  isFraud  isFlaggedFraud  \n",
       "0  M1979787155             0.0             0.0        0               0  \n",
       "1  M2044282225             0.0             0.0        0               0  \n",
       "2   C553264065             0.0             0.0        1               0  \n",
       "3    C38997010         21182.0             0.0        1               0  \n",
       "4  M1230701703             0.0             0.0        0               0  "
      ]
     },
     "execution_count": 4,
     "metadata": {},
     "output_type": "execute_result"
    }
   ],
   "source": [
    "df.head()"
   ]
  },
  {
   "cell_type": "code",
   "execution_count": 5,
   "id": "75c822a7",
   "metadata": {
    "execution": {
     "iopub.execute_input": "2022-03-22T05:09:17.447064Z",
     "iopub.status.busy": "2022-03-22T05:09:17.445861Z",
     "iopub.status.idle": "2022-03-22T05:09:17.470200Z",
     "shell.execute_reply": "2022-03-22T05:09:17.470729Z",
     "shell.execute_reply.started": "2022-03-22T04:18:06.266173Z"
    },
    "papermill": {
     "duration": 0.064681,
     "end_time": "2022-03-22T05:09:17.470945",
     "exception": false,
     "start_time": "2022-03-22T05:09:17.406264",
     "status": "completed"
    },
    "tags": []
   },
   "outputs": [
    {
     "name": "stdout",
     "output_type": "stream",
     "text": [
      "<class 'pandas.core.frame.DataFrame'>\n",
      "RangeIndex: 6362620 entries, 0 to 6362619\n",
      "Data columns (total 11 columns):\n",
      " #   Column          Dtype  \n",
      "---  ------          -----  \n",
      " 0   step            int64  \n",
      " 1   type            object \n",
      " 2   amount          float64\n",
      " 3   nameOrig        object \n",
      " 4   oldbalanceOrg   float64\n",
      " 5   newbalanceOrig  float64\n",
      " 6   nameDest        object \n",
      " 7   oldbalanceDest  float64\n",
      " 8   newbalanceDest  float64\n",
      " 9   isFraud         int64  \n",
      " 10  isFlaggedFraud  int64  \n",
      "dtypes: float64(5), int64(3), object(3)\n",
      "memory usage: 534.0+ MB\n"
     ]
    }
   ],
   "source": [
    "df.info()"
   ]
  },
  {
   "cell_type": "code",
   "execution_count": 6,
   "id": "944c4851",
   "metadata": {
    "execution": {
     "iopub.execute_input": "2022-03-22T05:09:17.693275Z",
     "iopub.status.busy": "2022-03-22T05:09:17.602674Z",
     "iopub.status.idle": "2022-03-22T05:09:19.304537Z",
     "shell.execute_reply": "2022-03-22T05:09:19.303936Z",
     "shell.execute_reply.started": "2022-03-22T04:18:07.471706Z"
    },
    "papermill": {
     "duration": 1.796682,
     "end_time": "2022-03-22T05:09:19.304688",
     "exception": false,
     "start_time": "2022-03-22T05:09:17.508006",
     "status": "completed"
    },
    "tags": []
   },
   "outputs": [
    {
     "data": {
      "text/html": [
       "<div>\n",
       "<style scoped>\n",
       "    .dataframe tbody tr th:only-of-type {\n",
       "        vertical-align: middle;\n",
       "    }\n",
       "\n",
       "    .dataframe tbody tr th {\n",
       "        vertical-align: top;\n",
       "    }\n",
       "\n",
       "    .dataframe thead th {\n",
       "        text-align: right;\n",
       "    }\n",
       "</style>\n",
       "<table border=\"1\" class=\"dataframe\">\n",
       "  <thead>\n",
       "    <tr style=\"text-align: right;\">\n",
       "      <th></th>\n",
       "      <th>step</th>\n",
       "      <th>amount</th>\n",
       "      <th>oldbalanceOrg</th>\n",
       "      <th>newbalanceOrig</th>\n",
       "      <th>oldbalanceDest</th>\n",
       "      <th>newbalanceDest</th>\n",
       "      <th>isFraud</th>\n",
       "      <th>isFlaggedFraud</th>\n",
       "    </tr>\n",
       "  </thead>\n",
       "  <tbody>\n",
       "    <tr>\n",
       "      <th>count</th>\n",
       "      <td>6.362620e+06</td>\n",
       "      <td>6.362620e+06</td>\n",
       "      <td>6.362620e+06</td>\n",
       "      <td>6.362620e+06</td>\n",
       "      <td>6.362620e+06</td>\n",
       "      <td>6.362620e+06</td>\n",
       "      <td>6.362620e+06</td>\n",
       "      <td>6.362620e+06</td>\n",
       "    </tr>\n",
       "    <tr>\n",
       "      <th>mean</th>\n",
       "      <td>2.433972e+02</td>\n",
       "      <td>1.798619e+05</td>\n",
       "      <td>8.338831e+05</td>\n",
       "      <td>8.551137e+05</td>\n",
       "      <td>1.100702e+06</td>\n",
       "      <td>1.224996e+06</td>\n",
       "      <td>1.290820e-03</td>\n",
       "      <td>2.514687e-06</td>\n",
       "    </tr>\n",
       "    <tr>\n",
       "      <th>std</th>\n",
       "      <td>1.423320e+02</td>\n",
       "      <td>6.038582e+05</td>\n",
       "      <td>2.888243e+06</td>\n",
       "      <td>2.924049e+06</td>\n",
       "      <td>3.399180e+06</td>\n",
       "      <td>3.674129e+06</td>\n",
       "      <td>3.590480e-02</td>\n",
       "      <td>1.585775e-03</td>\n",
       "    </tr>\n",
       "    <tr>\n",
       "      <th>min</th>\n",
       "      <td>1.000000e+00</td>\n",
       "      <td>0.000000e+00</td>\n",
       "      <td>0.000000e+00</td>\n",
       "      <td>0.000000e+00</td>\n",
       "      <td>0.000000e+00</td>\n",
       "      <td>0.000000e+00</td>\n",
       "      <td>0.000000e+00</td>\n",
       "      <td>0.000000e+00</td>\n",
       "    </tr>\n",
       "    <tr>\n",
       "      <th>25%</th>\n",
       "      <td>1.560000e+02</td>\n",
       "      <td>1.338957e+04</td>\n",
       "      <td>0.000000e+00</td>\n",
       "      <td>0.000000e+00</td>\n",
       "      <td>0.000000e+00</td>\n",
       "      <td>0.000000e+00</td>\n",
       "      <td>0.000000e+00</td>\n",
       "      <td>0.000000e+00</td>\n",
       "    </tr>\n",
       "    <tr>\n",
       "      <th>50%</th>\n",
       "      <td>2.390000e+02</td>\n",
       "      <td>7.487194e+04</td>\n",
       "      <td>1.420800e+04</td>\n",
       "      <td>0.000000e+00</td>\n",
       "      <td>1.327057e+05</td>\n",
       "      <td>2.146614e+05</td>\n",
       "      <td>0.000000e+00</td>\n",
       "      <td>0.000000e+00</td>\n",
       "    </tr>\n",
       "    <tr>\n",
       "      <th>75%</th>\n",
       "      <td>3.350000e+02</td>\n",
       "      <td>2.087215e+05</td>\n",
       "      <td>1.073152e+05</td>\n",
       "      <td>1.442584e+05</td>\n",
       "      <td>9.430367e+05</td>\n",
       "      <td>1.111909e+06</td>\n",
       "      <td>0.000000e+00</td>\n",
       "      <td>0.000000e+00</td>\n",
       "    </tr>\n",
       "    <tr>\n",
       "      <th>max</th>\n",
       "      <td>7.430000e+02</td>\n",
       "      <td>9.244552e+07</td>\n",
       "      <td>5.958504e+07</td>\n",
       "      <td>4.958504e+07</td>\n",
       "      <td>3.560159e+08</td>\n",
       "      <td>3.561793e+08</td>\n",
       "      <td>1.000000e+00</td>\n",
       "      <td>1.000000e+00</td>\n",
       "    </tr>\n",
       "  </tbody>\n",
       "</table>\n",
       "</div>"
      ],
      "text/plain": [
       "               step        amount  oldbalanceOrg  newbalanceOrig  \\\n",
       "count  6.362620e+06  6.362620e+06   6.362620e+06    6.362620e+06   \n",
       "mean   2.433972e+02  1.798619e+05   8.338831e+05    8.551137e+05   \n",
       "std    1.423320e+02  6.038582e+05   2.888243e+06    2.924049e+06   \n",
       "min    1.000000e+00  0.000000e+00   0.000000e+00    0.000000e+00   \n",
       "25%    1.560000e+02  1.338957e+04   0.000000e+00    0.000000e+00   \n",
       "50%    2.390000e+02  7.487194e+04   1.420800e+04    0.000000e+00   \n",
       "75%    3.350000e+02  2.087215e+05   1.073152e+05    1.442584e+05   \n",
       "max    7.430000e+02  9.244552e+07   5.958504e+07    4.958504e+07   \n",
       "\n",
       "       oldbalanceDest  newbalanceDest       isFraud  isFlaggedFraud  \n",
       "count    6.362620e+06    6.362620e+06  6.362620e+06    6.362620e+06  \n",
       "mean     1.100702e+06    1.224996e+06  1.290820e-03    2.514687e-06  \n",
       "std      3.399180e+06    3.674129e+06  3.590480e-02    1.585775e-03  \n",
       "min      0.000000e+00    0.000000e+00  0.000000e+00    0.000000e+00  \n",
       "25%      0.000000e+00    0.000000e+00  0.000000e+00    0.000000e+00  \n",
       "50%      1.327057e+05    2.146614e+05  0.000000e+00    0.000000e+00  \n",
       "75%      9.430367e+05    1.111909e+06  0.000000e+00    0.000000e+00  \n",
       "max      3.560159e+08    3.561793e+08  1.000000e+00    1.000000e+00  "
      ]
     },
     "execution_count": 6,
     "metadata": {},
     "output_type": "execute_result"
    }
   ],
   "source": [
    "df.describe()"
   ]
  },
  {
   "cell_type": "code",
   "execution_count": 7,
   "id": "3d1eb112",
   "metadata": {
    "execution": {
     "iopub.execute_input": "2022-03-22T05:09:19.380755Z",
     "iopub.status.busy": "2022-03-22T05:09:19.379985Z",
     "iopub.status.idle": "2022-03-22T05:09:20.249996Z",
     "shell.execute_reply": "2022-03-22T05:09:20.249266Z",
     "shell.execute_reply.started": "2022-03-22T04:18:10.076187Z"
    },
    "papermill": {
     "duration": 0.910274,
     "end_time": "2022-03-22T05:09:20.250141",
     "exception": false,
     "start_time": "2022-03-22T05:09:19.339867",
     "status": "completed"
    },
    "tags": []
   },
   "outputs": [
    {
     "data": {
      "image/png": "[encoded data removed]",
      "text/plain": [
       "<Figure size 432x288 with 1 Axes>"
      ]
     },
     "metadata": {},
     "output_type": "display_data"
    }
   ],
   "source": [
    "sns.countplot(y = df['isFraud'], palette='cool');"
   ]
  },
  {
   "cell_type": "markdown",
   "id": "e8fd6425",
   "metadata": {
    "papermill": {
     "duration": 0.036959,
     "end_time": "2022-03-22T05:09:20.324635",
     "exception": false,
     "start_time": "2022-03-22T05:09:20.287676",
     "status": "completed"
    },
    "tags": []
   },
   "source": [
    "Target Variable is highly Imbalanced."
   ]
  },
  {
   "cell_type": "code",
   "execution_count": 8,
   "id": "3017a231",
   "metadata": {
    "execution": {
     "iopub.execute_input": "2022-03-22T05:09:20.406650Z",
     "iopub.status.busy": "2022-03-22T05:09:20.405965Z",
     "iopub.status.idle": "2022-03-22T05:09:22.611843Z",
     "shell.execute_reply": "2022-03-22T05:09:22.612383Z",
     "shell.execute_reply.started": "2022-03-22T04:24:16.610458Z"
    },
    "papermill": {
     "duration": 2.251247,
     "end_time": "2022-03-22T05:09:22.612559",
     "exception": false,
     "start_time": "2022-03-22T05:09:20.361312",
     "status": "completed"
    },
    "tags": []
   },
   "outputs": [
    {
     "data": {
      "image/png": "[encoded data removed]",
      "text/plain": [
       "<Figure size 576x360 with 2 Axes>"
      ]
     },
     "metadata": {},
     "output_type": "display_data"
    }
   ],
   "source": [
    "plt.figure(figsize=(8,5))\n",
    "sns.heatmap(df.corr(), cmap='cool_r', linewidth=0.2, annot=True);"
   ]
  },
  {
   "cell_type": "code",
   "execution_count": 9,
   "id": "3dea457d",
   "metadata": {
    "execution": {
     "iopub.execute_input": "2022-03-22T05:09:22.728421Z",
     "iopub.status.busy": "2022-03-22T05:09:22.691296Z",
     "iopub.status.idle": "2022-03-22T05:09:22.732103Z",
     "shell.execute_reply": "2022-03-22T05:09:22.731479Z",
     "shell.execute_reply.started": "2022-03-22T04:18:20.972465Z"
    },
    "papermill": {
     "duration": 0.082118,
     "end_time": "2022-03-22T05:09:22.732289",
     "exception": false,
     "start_time": "2022-03-22T05:09:22.650171",
     "status": "completed"
    },
    "tags": []
   },
   "outputs": [
    {
     "data": {
      "text/plain": [
       "0    6354407\n",
       "1       8213\n",
       "Name: isFraud, dtype: int64"
      ]
     },
     "execution_count": 9,
     "metadata": {},
     "output_type": "execute_result"
    }
   ],
   "source": [
    "df['isFraud'].value_counts()"
   ]
  },
  {
   "cell_type": "code",
   "execution_count": 10,
   "id": "72f0cb5f",
   "metadata": {
    "execution": {
     "iopub.execute_input": "2022-03-22T05:09:22.815305Z",
     "iopub.status.busy": "2022-03-22T05:09:22.814089Z",
     "iopub.status.idle": "2022-03-22T05:09:22.829656Z",
     "shell.execute_reply": "2022-03-22T05:09:22.829008Z",
     "shell.execute_reply.started": "2022-03-22T04:18:23.701249Z"
    },
    "papermill": {
     "duration": 0.059303,
     "end_time": "2022-03-22T05:09:22.829804",
     "exception": false,
     "start_time": "2022-03-22T05:09:22.770501",
     "status": "completed"
    },
    "tags": []
   },
   "outputs": [],
   "source": [
    "fraud = df[df['isFraud'] == 1]"
   ]
  },
  {
   "cell_type": "code",
   "execution_count": 11,
   "id": "538d851a",
   "metadata": {
    "execution": {
     "iopub.execute_input": "2022-03-22T05:09:22.912158Z",
     "iopub.status.busy": "2022-03-22T05:09:22.910853Z",
     "iopub.status.idle": "2022-03-22T05:09:25.052582Z",
     "shell.execute_reply": "2022-03-22T05:09:25.053188Z",
     "shell.execute_reply.started": "2022-03-22T04:18:25.746211Z"
    },
    "papermill": {
     "duration": 2.185674,
     "end_time": "2022-03-22T05:09:25.053403",
     "exception": false,
     "start_time": "2022-03-22T05:09:22.867729",
     "status": "completed"
    },
    "tags": []
   },
   "outputs": [
    {
     "data": {
      "text/plain": [
       "step              0\n",
       "type              0\n",
       "amount            0\n",
       "nameOrig          0\n",
       "oldbalanceOrg     0\n",
       "newbalanceOrig    0\n",
       "nameDest          0\n",
       "oldbalanceDest    0\n",
       "newbalanceDest    0\n",
       "isFraud           0\n",
       "isFlaggedFraud    0\n",
       "dtype: int64"
      ]
     },
     "execution_count": 11,
     "metadata": {},
     "output_type": "execute_result"
    }
   ],
   "source": [
    "df.isnull().sum()"
   ]
  },
  {
   "cell_type": "markdown",
   "id": "b3bad99e",
   "metadata": {
    "papermill": {
     "duration": 0.038153,
     "end_time": "2022-03-22T05:09:25.129488",
     "exception": false,
     "start_time": "2022-03-22T05:09:25.091335",
     "status": "completed"
    },
    "tags": []
   },
   "source": [
    "Splitting Numerical and Categorical Data"
   ]
  },
  {
   "cell_type": "code",
   "execution_count": 12,
   "id": "4755a4ad",
   "metadata": {
    "execution": {
     "iopub.execute_input": "2022-03-22T05:09:25.230720Z",
     "iopub.status.busy": "2022-03-22T05:09:25.229390Z",
     "iopub.status.idle": "2022-03-22T05:09:25.694523Z",
     "shell.execute_reply": "2022-03-22T05:09:25.695046Z",
     "shell.execute_reply.started": "2022-03-22T04:18:29.386117Z"
    },
    "papermill": {
     "duration": 0.517599,
     "end_time": "2022-03-22T05:09:25.695223",
     "exception": false,
     "start_time": "2022-03-22T05:09:25.177624",
     "status": "completed"
    },
    "tags": []
   },
   "outputs": [
    {
     "data": {
      "text/plain": [
       "['type', 'nameOrig', 'nameDest']"
      ]
     },
     "execution_count": 12,
     "metadata": {},
     "output_type": "execute_result"
    }
   ],
   "source": [
    "cat = [i for i in df.drop('isFraud', axis=1).columns if df[i].dtypes == 'O']\n",
    "cat"
   ]
  },
  {
   "cell_type": "code",
   "execution_count": 13,
   "id": "a65dc790",
   "metadata": {
    "execution": {
     "iopub.execute_input": "2022-03-22T05:09:25.775878Z",
     "iopub.status.busy": "2022-03-22T05:09:25.774838Z",
     "iopub.status.idle": "2022-03-22T05:09:26.245855Z",
     "shell.execute_reply": "2022-03-22T05:09:26.246458Z",
     "shell.execute_reply.started": "2022-03-22T04:18:29.841641Z"
    },
    "papermill": {
     "duration": 0.512986,
     "end_time": "2022-03-22T05:09:26.246632",
     "exception": false,
     "start_time": "2022-03-22T05:09:25.733646",
     "status": "completed"
    },
    "tags": []
   },
   "outputs": [
    {
     "data": {
      "text/plain": [
       "['step',\n",
       " 'amount',\n",
       " 'oldbalanceOrg',\n",
       " 'newbalanceOrig',\n",
       " 'oldbalanceDest',\n",
       " 'newbalanceDest',\n",
       " 'isFlaggedFraud']"
      ]
     },
     "execution_count": 13,
     "metadata": {},
     "output_type": "execute_result"
    }
   ],
   "source": [
    "num = [i for i in df.drop('isFraud', axis=1).columns if df[i].dtypes != 'O']\n",
    "num"
   ]
  },
  {
   "cell_type": "markdown",
   "id": "f71b0d32",
   "metadata": {
    "papermill": {
     "duration": 0.038339,
     "end_time": "2022-03-22T05:09:26.323729",
     "exception": false,
     "start_time": "2022-03-22T05:09:26.285390",
     "status": "completed"
    },
    "tags": []
   },
   "source": [
    "Categorical Data"
   ]
  },
  {
   "cell_type": "code",
   "execution_count": 14,
   "id": "db4c1fb0",
   "metadata": {
    "execution": {
     "iopub.execute_input": "2022-03-22T05:09:26.407463Z",
     "iopub.status.busy": "2022-03-22T05:09:26.406284Z",
     "iopub.status.idle": "2022-03-22T05:09:34.039077Z",
     "shell.execute_reply": "2022-03-22T05:09:34.039577Z",
     "shell.execute_reply.started": "2022-03-22T04:18:32.791345Z"
    },
    "papermill": {
     "duration": 7.676428,
     "end_time": "2022-03-22T05:09:34.039758",
     "exception": false,
     "start_time": "2022-03-22T05:09:26.363330",
     "status": "completed"
    },
    "tags": []
   },
   "outputs": [
    {
     "data": {
      "image/png": "[encoded data removed]",
      "text/plain": [
       "<Figure size 432x288 with 1 Axes>"
      ]
     },
     "metadata": {},
     "output_type": "display_data"
    }
   ],
   "source": [
    "sns.countplot(df['type'], palette='cool');"
   ]
  },
  {
   "cell_type": "code",
   "execution_count": 15,
   "id": "d51ca19e",
   "metadata": {
    "execution": {
     "iopub.execute_input": "2022-03-22T05:09:34.509512Z",
     "iopub.status.busy": "2022-03-22T05:09:34.508700Z",
     "iopub.status.idle": "2022-03-22T05:09:41.013024Z",
     "shell.execute_reply": "2022-03-22T05:09:41.012221Z",
     "shell.execute_reply.started": "2022-03-21T13:52:33.260079Z"
    },
    "papermill": {
     "duration": 6.931684,
     "end_time": "2022-03-22T05:09:41.013180",
     "exception": false,
     "start_time": "2022-03-22T05:09:34.081496",
     "status": "completed"
    },
    "tags": []
   },
   "outputs": [
    {
     "data": {
      "text/plain": [
       "(6353307, 2722362)"
      ]
     },
     "execution_count": 15,
     "metadata": {},
     "output_type": "execute_result"
    }
   ],
   "source": [
    "df['nameOrig'].nunique(), df['nameDest'].nunique()"
   ]
  },
  {
   "cell_type": "code",
   "execution_count": 16,
   "id": "fa97c7be",
   "metadata": {
    "execution": {
     "iopub.execute_input": "2022-03-22T05:09:41.117880Z",
     "iopub.status.busy": "2022-03-22T05:09:41.117080Z",
     "iopub.status.idle": "2022-03-22T05:10:06.374571Z",
     "shell.execute_reply": "2022-03-22T05:10:06.375118Z",
     "shell.execute_reply.started": "2022-03-21T13:57:28.368892Z"
    },
    "papermill": {
     "duration": 25.319163,
     "end_time": "2022-03-22T05:10:06.375371",
     "exception": false,
     "start_time": "2022-03-22T05:09:41.056208",
     "status": "completed"
    },
    "tags": []
   },
   "outputs": [
    {
     "data": {
      "text/plain": [
       "<AxesSubplot:xlabel='step', ylabel='Density'>"
      ]
     },
     "execution_count": 16,
     "metadata": {},
     "output_type": "execute_result"
    },
    {
     "data": {
      "image/png": "[encoded data removed]",
      "text/plain": [
       "<Figure size 432x288 with 1 Axes>"
      ]
     },
     "metadata": {},
     "output_type": "display_data"
    }
   ],
   "source": [
    "sns.distplot(df['step'])"
   ]
  },
  {
   "cell_type": "code",
   "execution_count": 17,
   "id": "8f22a8d3",
   "metadata": {
    "execution": {
     "iopub.execute_input": "2022-03-22T05:10:06.474669Z",
     "iopub.status.busy": "2022-03-22T05:10:06.473565Z",
     "iopub.status.idle": "2022-03-22T05:10:27.569031Z",
     "shell.execute_reply": "2022-03-22T05:10:27.568454Z",
     "shell.execute_reply.started": "2022-03-22T04:18:49.051818Z"
    },
    "papermill": {
     "duration": 21.146243,
     "end_time": "2022-03-22T05:10:27.569173",
     "exception": false,
     "start_time": "2022-03-22T05:10:06.422930",
     "status": "completed"
    },
    "tags": []
   },
   "outputs": [
    {
     "data": {
      "text/plain": [
       "<AxesSubplot:xlabel='amount', ylabel='Density'>"
      ]
     },
     "execution_count": 17,
     "metadata": {},
     "output_type": "execute_result"
    },
    {
     "data": {
      "image/png": "[encoded data removed]",
      "text/plain": [
       "<Figure size 432x288 with 1 Axes>"
      ]
     },
     "metadata": {},
     "output_type": "display_data"
    }
   ],
   "source": [
    "sns.distplot(df['amount'])"
   ]
  },
  {
   "cell_type": "code",
   "execution_count": 18,
   "id": "1ae27143",
   "metadata": {
    "execution": {
     "iopub.execute_input": "2022-03-22T05:10:27.659327Z",
     "iopub.status.busy": "2022-03-22T05:10:27.658297Z",
     "iopub.status.idle": "2022-03-22T05:10:28.079417Z",
     "shell.execute_reply": "2022-03-22T05:10:28.079926Z",
     "shell.execute_reply.started": "2022-03-22T04:19:43.086081Z"
    },
    "papermill": {
     "duration": 0.467686,
     "end_time": "2022-03-22T05:10:28.080112",
     "exception": false,
     "start_time": "2022-03-22T05:10:27.612426",
     "status": "completed"
    },
    "tags": []
   },
   "outputs": [
    {
     "data": {
      "image/png": "[encoded data removed]",
      "text/plain": [
       "<Figure size 432x288 with 1 Axes>"
      ]
     },
     "metadata": {},
     "output_type": "display_data"
    }
   ],
   "source": [
    "sns.distplot(fraud['amount']);"
   ]
  },
  {
   "cell_type": "markdown",
   "id": "754b2f0c",
   "metadata": {
    "papermill": {
     "duration": 0.04559,
     "end_time": "2022-03-22T05:10:28.172357",
     "exception": false,
     "start_time": "2022-03-22T05:10:28.126767",
     "status": "completed"
    },
    "tags": []
   },
   "source": [
    "We can see that fraud is only when amount is low."
   ]
  },
  {
   "cell_type": "code",
   "execution_count": 19,
   "id": "bc4cb609",
   "metadata": {
    "execution": {
     "iopub.execute_input": "2022-03-22T05:10:28.268425Z",
     "iopub.status.busy": "2022-03-22T05:10:28.267536Z",
     "iopub.status.idle": "2022-03-22T05:10:28.270951Z",
     "shell.execute_reply": "2022-03-22T05:10:28.271586Z",
     "shell.execute_reply.started": "2022-03-22T04:42:59.041567Z"
    },
    "papermill": {
     "duration": 0.055253,
     "end_time": "2022-03-22T05:10:28.271774",
     "exception": false,
     "start_time": "2022-03-22T05:10:28.216521",
     "status": "completed"
    },
    "tags": []
   },
   "outputs": [
    {
     "data": {
      "text/plain": [
       "step                int64\n",
       "type               object\n",
       "amount            float64\n",
       "nameOrig           object\n",
       "oldbalanceOrg     float64\n",
       "newbalanceOrig    float64\n",
       "nameDest           object\n",
       "oldbalanceDest    float64\n",
       "newbalanceDest    float64\n",
       "isFraud             int64\n",
       "isFlaggedFraud      int64\n",
       "dtype: object"
      ]
     },
     "execution_count": 19,
     "metadata": {},
     "output_type": "execute_result"
    }
   ],
   "source": [
    "df.dtypes"
   ]
  },
  {
   "cell_type": "code",
   "execution_count": 20,
   "id": "c88fee09",
   "metadata": {
    "execution": {
     "iopub.execute_input": "2022-03-22T05:10:28.744303Z",
     "iopub.status.busy": "2022-03-22T05:10:28.462341Z",
     "iopub.status.idle": "2022-03-22T05:10:29.185943Z",
     "shell.execute_reply": "2022-03-22T05:10:29.186466Z",
     "shell.execute_reply.started": "2022-03-22T04:34:03.181452Z"
    },
    "papermill": {
     "duration": 0.869694,
     "end_time": "2022-03-22T05:10:29.186656",
     "exception": false,
     "start_time": "2022-03-22T05:10:28.316962",
     "status": "completed"
    },
    "tags": []
   },
   "outputs": [
    {
     "data": {
      "text/html": [
       "<div>\n",
       "<style scoped>\n",
       "    .dataframe tbody tr th:only-of-type {\n",
       "        vertical-align: middle;\n",
       "    }\n",
       "\n",
       "    .dataframe tbody tr th {\n",
       "        vertical-align: top;\n",
       "    }\n",
       "\n",
       "    .dataframe thead th {\n",
       "        text-align: right;\n",
       "    }\n",
       "</style>\n",
       "<table border=\"1\" class=\"dataframe\">\n",
       "  <thead>\n",
       "    <tr style=\"text-align: right;\">\n",
       "      <th></th>\n",
       "      <th>type_CASH_OUT</th>\n",
       "      <th>type_DEBIT</th>\n",
       "      <th>type_PAYMENT</th>\n",
       "      <th>type_TRANSFER</th>\n",
       "    </tr>\n",
       "  </thead>\n",
       "  <tbody>\n",
       "    <tr>\n",
       "      <th>0</th>\n",
       "      <td>0</td>\n",
       "      <td>0</td>\n",
       "      <td>1</td>\n",
       "      <td>0</td>\n",
       "    </tr>\n",
       "    <tr>\n",
       "      <th>1</th>\n",
       "      <td>0</td>\n",
       "      <td>0</td>\n",
       "      <td>1</td>\n",
       "      <td>0</td>\n",
       "    </tr>\n",
       "    <tr>\n",
       "      <th>2</th>\n",
       "      <td>0</td>\n",
       "      <td>0</td>\n",
       "      <td>0</td>\n",
       "      <td>1</td>\n",
       "    </tr>\n",
       "    <tr>\n",
       "      <th>3</th>\n",
       "      <td>1</td>\n",
       "      <td>0</td>\n",
       "      <td>0</td>\n",
       "      <td>0</td>\n",
       "    </tr>\n",
       "    <tr>\n",
       "      <th>4</th>\n",
       "      <td>0</td>\n",
       "      <td>0</td>\n",
       "      <td>1</td>\n",
       "      <td>0</td>\n",
       "    </tr>\n",
       "  </tbody>\n",
       "</table>\n",
       "</div>"
      ],
      "text/plain": [
       "   type_CASH_OUT  type_DEBIT  type_PAYMENT  type_TRANSFER\n",
       "0              0           0             1              0\n",
       "1              0           0             1              0\n",
       "2              0           0             0              1\n",
       "3              1           0             0              0\n",
       "4              0           0             1              0"
      ]
     },
     "execution_count": 20,
     "metadata": {},
     "output_type": "execute_result"
    }
   ],
   "source": [
    "types = pd.get_dummies(df['type'], prefix='type', drop_first=True)\n",
    "types.head()"
   ]
  },
  {
   "cell_type": "code",
   "execution_count": 21,
   "id": "806e6136",
   "metadata": {
    "execution": {
     "iopub.execute_input": "2022-03-22T05:10:31.200687Z",
     "iopub.status.busy": "2022-03-22T05:10:31.195181Z",
     "iopub.status.idle": "2022-03-22T05:11:28.198366Z",
     "shell.execute_reply": "2022-03-22T05:11:28.197585Z",
     "shell.execute_reply.started": "2022-03-22T04:40:09.892196Z"
    },
    "papermill": {
     "duration": 58.966795,
     "end_time": "2022-03-22T05:11:28.198539",
     "exception": false,
     "start_time": "2022-03-22T05:10:29.231744",
     "status": "completed"
    },
    "tags": []
   },
   "outputs": [],
   "source": [
    "df['nameOrig'] = label.fit_transform(df['nameOrig'])\n",
    "df['nameDest'] = label.fit_transform(df['nameDest'])"
   ]
  },
  {
   "cell_type": "code",
   "execution_count": 22,
   "id": "b57b4c8a",
   "metadata": {
    "execution": {
     "iopub.execute_input": "2022-03-22T05:11:28.299429Z",
     "iopub.status.busy": "2022-03-22T05:11:28.297489Z",
     "iopub.status.idle": "2022-03-22T05:11:28.540105Z",
     "shell.execute_reply": "2022-03-22T05:11:28.539541Z",
     "shell.execute_reply.started": "2022-03-22T04:42:16.176861Z"
    },
    "papermill": {
     "duration": 0.295034,
     "end_time": "2022-03-22T05:11:28.540263",
     "exception": false,
     "start_time": "2022-03-22T05:11:28.245229",
     "status": "completed"
    },
    "tags": []
   },
   "outputs": [
    {
     "data": {
      "text/html": [
       "<div>\n",
       "<style scoped>\n",
       "    .dataframe tbody tr th:only-of-type {\n",
       "        vertical-align: middle;\n",
       "    }\n",
       "\n",
       "    .dataframe tbody tr th {\n",
       "        vertical-align: top;\n",
       "    }\n",
       "\n",
       "    .dataframe thead th {\n",
       "        text-align: right;\n",
       "    }\n",
       "</style>\n",
       "<table border=\"1\" class=\"dataframe\">\n",
       "  <thead>\n",
       "    <tr style=\"text-align: right;\">\n",
       "      <th></th>\n",
       "      <th>nameOrig</th>\n",
       "      <th>nameDest</th>\n",
       "    </tr>\n",
       "  </thead>\n",
       "  <tbody>\n",
       "    <tr>\n",
       "      <th>0</th>\n",
       "      <td>757869</td>\n",
       "      <td>1662094</td>\n",
       "    </tr>\n",
       "    <tr>\n",
       "      <th>1</th>\n",
       "      <td>2188998</td>\n",
       "      <td>1733924</td>\n",
       "    </tr>\n",
       "    <tr>\n",
       "      <th>2</th>\n",
       "      <td>1002156</td>\n",
       "      <td>439685</td>\n",
       "    </tr>\n",
       "    <tr>\n",
       "      <th>3</th>\n",
       "      <td>5828262</td>\n",
       "      <td>391696</td>\n",
       "    </tr>\n",
       "    <tr>\n",
       "      <th>4</th>\n",
       "      <td>3445981</td>\n",
       "      <td>828919</td>\n",
       "    </tr>\n",
       "    <tr>\n",
       "      <th>...</th>\n",
       "      <td>...</td>\n",
       "      <td>...</td>\n",
       "    </tr>\n",
       "    <tr>\n",
       "      <th>6362615</th>\n",
       "      <td>5651847</td>\n",
       "      <td>505863</td>\n",
       "    </tr>\n",
       "    <tr>\n",
       "      <th>6362616</th>\n",
       "      <td>1737278</td>\n",
       "      <td>260949</td>\n",
       "    </tr>\n",
       "    <tr>\n",
       "      <th>6362617</th>\n",
       "      <td>533958</td>\n",
       "      <td>108224</td>\n",
       "    </tr>\n",
       "    <tr>\n",
       "      <th>6362618</th>\n",
       "      <td>2252932</td>\n",
       "      <td>319713</td>\n",
       "    </tr>\n",
       "    <tr>\n",
       "      <th>6362619</th>\n",
       "      <td>919229</td>\n",
       "      <td>534595</td>\n",
       "    </tr>\n",
       "  </tbody>\n",
       "</table>\n",
       "<p>6362620 rows × 2 columns</p>\n",
       "</div>"
      ],
      "text/plain": [
       "         nameOrig  nameDest\n",
       "0          757869   1662094\n",
       "1         2188998   1733924\n",
       "2         1002156    439685\n",
       "3         5828262    391696\n",
       "4         3445981    828919\n",
       "...           ...       ...\n",
       "6362615   5651847    505863\n",
       "6362616   1737278    260949\n",
       "6362617    533958    108224\n",
       "6362618   2252932    319713\n",
       "6362619    919229    534595\n",
       "\n",
       "[6362620 rows x 2 columns]"
      ]
     },
     "execution_count": 22,
     "metadata": {},
     "output_type": "execute_result"
    }
   ],
   "source": [
    "df[['nameOrig', 'nameDest']]"
   ]
  },
  {
   "cell_type": "code",
   "execution_count": 23,
   "id": "0fd43157",
   "metadata": {
    "execution": {
     "iopub.execute_input": "2022-03-22T05:11:28.651742Z",
     "iopub.status.busy": "2022-03-22T05:11:28.650979Z",
     "iopub.status.idle": "2022-03-22T05:11:29.534344Z",
     "shell.execute_reply": "2022-03-22T05:11:29.534817Z",
     "shell.execute_reply.started": "2022-03-22T04:50:04.872523Z"
    },
    "papermill": {
     "duration": 0.948267,
     "end_time": "2022-03-22T05:11:29.534997",
     "exception": false,
     "start_time": "2022-03-22T05:11:28.586730",
     "status": "completed"
    },
    "tags": []
   },
   "outputs": [
    {
     "data": {
      "text/html": [
       "<div>\n",
       "<style scoped>\n",
       "    .dataframe tbody tr th:only-of-type {\n",
       "        vertical-align: middle;\n",
       "    }\n",
       "\n",
       "    .dataframe tbody tr th {\n",
       "        vertical-align: top;\n",
       "    }\n",
       "\n",
       "    .dataframe thead th {\n",
       "        text-align: right;\n",
       "    }\n",
       "</style>\n",
       "<table border=\"1\" class=\"dataframe\">\n",
       "  <thead>\n",
       "    <tr style=\"text-align: right;\">\n",
       "      <th></th>\n",
       "      <th>step</th>\n",
       "      <th>amount</th>\n",
       "      <th>nameOrig</th>\n",
       "      <th>oldbalanceOrg</th>\n",
       "      <th>newbalanceOrig</th>\n",
       "      <th>nameDest</th>\n",
       "      <th>oldbalanceDest</th>\n",
       "      <th>newbalanceDest</th>\n",
       "      <th>isFraud</th>\n",
       "      <th>isFlaggedFraud</th>\n",
       "      <th>type_CASH_OUT</th>\n",
       "      <th>type_DEBIT</th>\n",
       "      <th>type_PAYMENT</th>\n",
       "      <th>type_TRANSFER</th>\n",
       "    </tr>\n",
       "  </thead>\n",
       "  <tbody>\n",
       "    <tr>\n",
       "      <th>0</th>\n",
       "      <td>1</td>\n",
       "      <td>9839.64</td>\n",
       "      <td>757869</td>\n",
       "      <td>170136.0</td>\n",
       "      <td>160296.36</td>\n",
       "      <td>1662094</td>\n",
       "      <td>0.0</td>\n",
       "      <td>0.0</td>\n",
       "      <td>0</td>\n",
       "      <td>0</td>\n",
       "      <td>0</td>\n",
       "      <td>0</td>\n",
       "      <td>1</td>\n",
       "      <td>0</td>\n",
       "    </tr>\n",
       "    <tr>\n",
       "      <th>1</th>\n",
       "      <td>1</td>\n",
       "      <td>1864.28</td>\n",
       "      <td>2188998</td>\n",
       "      <td>21249.0</td>\n",
       "      <td>19384.72</td>\n",
       "      <td>1733924</td>\n",
       "      <td>0.0</td>\n",
       "      <td>0.0</td>\n",
       "      <td>0</td>\n",
       "      <td>0</td>\n",
       "      <td>0</td>\n",
       "      <td>0</td>\n",
       "      <td>1</td>\n",
       "      <td>0</td>\n",
       "    </tr>\n",
       "    <tr>\n",
       "      <th>2</th>\n",
       "      <td>1</td>\n",
       "      <td>181.00</td>\n",
       "      <td>1002156</td>\n",
       "      <td>181.0</td>\n",
       "      <td>0.00</td>\n",
       "      <td>439685</td>\n",
       "      <td>0.0</td>\n",
       "      <td>0.0</td>\n",
       "      <td>1</td>\n",
       "      <td>0</td>\n",
       "      <td>0</td>\n",
       "      <td>0</td>\n",
       "      <td>0</td>\n",
       "      <td>1</td>\n",
       "    </tr>\n",
       "    <tr>\n",
       "      <th>3</th>\n",
       "      <td>1</td>\n",
       "      <td>181.00</td>\n",
       "      <td>5828262</td>\n",
       "      <td>181.0</td>\n",
       "      <td>0.00</td>\n",
       "      <td>391696</td>\n",
       "      <td>21182.0</td>\n",
       "      <td>0.0</td>\n",
       "      <td>1</td>\n",
       "      <td>0</td>\n",
       "      <td>1</td>\n",
       "      <td>0</td>\n",
       "      <td>0</td>\n",
       "      <td>0</td>\n",
       "    </tr>\n",
       "    <tr>\n",
       "      <th>4</th>\n",
       "      <td>1</td>\n",
       "      <td>11668.14</td>\n",
       "      <td>3445981</td>\n",
       "      <td>41554.0</td>\n",
       "      <td>29885.86</td>\n",
       "      <td>828919</td>\n",
       "      <td>0.0</td>\n",
       "      <td>0.0</td>\n",
       "      <td>0</td>\n",
       "      <td>0</td>\n",
       "      <td>0</td>\n",
       "      <td>0</td>\n",
       "      <td>1</td>\n",
       "      <td>0</td>\n",
       "    </tr>\n",
       "  </tbody>\n",
       "</table>\n",
       "</div>"
      ],
      "text/plain": [
       "   step    amount  nameOrig  oldbalanceOrg  newbalanceOrig  nameDest  \\\n",
       "0     1   9839.64    757869       170136.0       160296.36   1662094   \n",
       "1     1   1864.28   2188998        21249.0        19384.72   1733924   \n",
       "2     1    181.00   1002156          181.0            0.00    439685   \n",
       "3     1    181.00   5828262          181.0            0.00    391696   \n",
       "4     1  11668.14   3445981        41554.0        29885.86    828919   \n",
       "\n",
       "   oldbalanceDest  newbalanceDest  isFraud  isFlaggedFraud  type_CASH_OUT  \\\n",
       "0             0.0             0.0        0               0              0   \n",
       "1             0.0             0.0        0               0              0   \n",
       "2             0.0             0.0        1               0              0   \n",
       "3         21182.0             0.0        1               0              1   \n",
       "4             0.0             0.0        0               0              0   \n",
       "\n",
       "   type_DEBIT  type_PAYMENT  type_TRANSFER  \n",
       "0           0             1              0  \n",
       "1           0             1              0  \n",
       "2           0             0              1  \n",
       "3           0             0              0  \n",
       "4           0             1              0  "
      ]
     },
     "execution_count": 23,
     "metadata": {},
     "output_type": "execute_result"
    }
   ],
   "source": [
    "df = pd.concat([df, types], axis=1)\n",
    "df = df.drop('type', axis=1)\n",
    "df.head()"
   ]
  },
  {
   "cell_type": "code",
   "execution_count": 24,
   "id": "d73c7d5d",
   "metadata": {
    "execution": {
     "iopub.execute_input": "2022-03-22T05:11:29.793045Z",
     "iopub.status.busy": "2022-03-22T05:11:29.792368Z",
     "iopub.status.idle": "2022-03-22T05:11:29.817489Z",
     "shell.execute_reply": "2022-03-22T05:11:29.816860Z",
     "shell.execute_reply.started": "2022-03-22T05:01:42.361389Z"
    },
    "papermill": {
     "duration": 0.234677,
     "end_time": "2022-03-22T05:11:29.817641",
     "exception": false,
     "start_time": "2022-03-22T05:11:29.582964",
     "status": "completed"
    },
    "tags": []
   },
   "outputs": [],
   "source": [
    "X = df.drop('isFraud', axis=1)\n",
    "y = df['isFraud']"
   ]
  },
  {
   "cell_type": "code",
   "execution_count": 25,
   "id": "b188a831",
   "metadata": {
    "execution": {
     "iopub.execute_input": "2022-03-22T05:11:29.917465Z",
     "iopub.status.busy": "2022-03-22T05:11:29.916378Z",
     "iopub.status.idle": "2022-03-22T05:11:32.386915Z",
     "shell.execute_reply": "2022-03-22T05:11:32.386345Z",
     "shell.execute_reply.started": "2022-03-22T05:01:43.356501Z"
    },
    "papermill": {
     "duration": 2.522845,
     "end_time": "2022-03-22T05:11:32.387072",
     "exception": false,
     "start_time": "2022-03-22T05:11:29.864227",
     "status": "completed"
    },
    "tags": []
   },
   "outputs": [],
   "source": [
    "X, X_test, y, y_test = train_test_split(X, y, test_size=0.2, random_state=24)"
   ]
  },
  {
   "cell_type": "code",
   "execution_count": 26,
   "id": "a42f60ac",
   "metadata": {
    "execution": {
     "iopub.execute_input": "2022-03-22T05:11:32.496970Z",
     "iopub.status.busy": "2022-03-22T05:11:32.493007Z",
     "iopub.status.idle": "2022-03-22T05:30:26.293721Z",
     "shell.execute_reply": "2022-03-22T05:30:26.293030Z",
     "shell.execute_reply.started": "2022-03-22T05:01:45.261363Z"
    },
    "papermill": {
     "duration": 1133.859691,
     "end_time": "2022-03-22T05:30:26.294002",
     "exception": false,
     "start_time": "2022-03-22T05:11:32.434311",
     "status": "completed"
    },
    "tags": []
   },
   "outputs": [
    {
     "data": {
      "application/vnd.jupyter.widget-view+json": {
       "model_id": "067e703478f540a49674deadf189a8de",
       "version_major": 2,
       "version_minor": 0
      },
      "text/plain": [
       "  0%|          | 0/2 [00:00<?, ?it/s]"
      ]
     },
     "metadata": {},
     "output_type": "display_data"
    },
    {
     "name": "stdout",
     "output_type": "stream",
     "text": [
      "----------\n",
      "| fold 1 |\n",
      "----------\n",
      "[05:11:49] WARNING: ../src/learner.cc:1115: Starting in XGBoost 1.3.0, the default evaluation metric used with the objective 'binary:logistic' was changed from 'error' to 'logloss'. Explicitly set eval_metric if you'd like to restore the old behavior.\n",
      "---------------------------------------------------\n",
      "| Training Accuracy   :- 99.89% | 99.99% | 100.0% |\n",
      "---------------------------------------------------\n",
      "---------------------------------------------------\n",
      "| Validation Accuracy :- 99.88% | 99.98% | 99.98% |\n",
      "---------------------------------------------------\n",
      "----------\n",
      "| fold 2 |\n",
      "----------\n",
      "[05:21:24] WARNING: ../src/learner.cc:1115: Starting in XGBoost 1.3.0, the default evaluation metric used with the objective 'binary:logistic' was changed from 'error' to 'logloss'. Explicitly set eval_metric if you'd like to restore the old behavior.\n",
      "---------------------------------------------------\n",
      "| Training Accuracy   :- 98.93% | 99.99% | 100.0% |\n",
      "---------------------------------------------------\n",
      "---------------------------------------------------\n",
      "| Validation Accuracy :- 98.92% | 99.98% | 99.97% |\n",
      "---------------------------------------------------\n",
      "---------------------\n",
      "| Model Trained !!! |\n",
      "---------------------\n"
     ]
    }
   ],
   "source": [
    "N_SPLITS = 2  # previous:300, increasing N_SPLITS to remove error due to randomness\n",
    "\n",
    "lgbm_preds = []\n",
    "xgb_preds = []\n",
    "catb_preds = []\n",
    "\n",
    "prob = []\n",
    "\n",
    "folds = StratifiedKFold(n_splits=N_SPLITS, shuffle=True)\n",
    "\n",
    "for fold, (train_id, test_id) in enumerate(tqdm(folds.split(X, y), total=N_SPLITS)):\n",
    "\n",
    "    my_print(f'fold {fold + 1}')\n",
    "\n",
    "    X_train, y_train = X.iloc[train_id], y.iloc[train_id] \n",
    "    X_valid, y_valid = X.iloc[test_id], y.iloc[test_id]\n",
    "    \n",
    "    lgbm_model = lgbm.LGBMClassifier()\n",
    "    xgb_model  = xgb.XGBClassifier()\n",
    "    catb_model = catb.CatBoostClassifier(verbose=0)\n",
    "    \n",
    "    lgbm_model.fit(X_train, y_train)\n",
    "    xgb_model.fit(X_train, y_train)\n",
    "    catb_model.fit(X_train, y_train)\n",
    "        \n",
    "    my_print(f'Training Accuracy   :- {(lgbm_model.score(X_train, y_train)*100).round(2)}% | {(xgb_model.score(X_train, y_train)*100).round(2)}% | {(catb_model.score(X_train, y_train)*100).round(2)}%')\n",
    "    my_print(f'Validation Accuracy :- {(lgbm_model.score(X_valid, y_valid)*100).round(2)}% | {(xgb_model.score(X_valid, y_valid)*100).round(2)}% | {(catb_model.score(X_valid, y_valid)*100).round(2)}%')\n",
    "    \n",
    "    prob1, prob2, prob3 = lgbm_model.predict_proba(X_test), xgb_model.predict_proba(X_test), catb_model.predict_proba(X_test)\n",
    "    prob.append((prob1 + prob2 + prob3) / 3)\n",
    "my_print('Model Trained !!!')"
   ]
  },
  {
   "cell_type": "code",
   "execution_count": 27,
   "id": "9e7c93ef",
   "metadata": {
    "execution": {
     "iopub.execute_input": "2022-03-22T05:30:26.404463Z",
     "iopub.status.busy": "2022-03-22T05:30:26.402986Z",
     "iopub.status.idle": "2022-03-22T05:30:36.675256Z",
     "shell.execute_reply": "2022-03-22T05:30:36.674601Z",
     "shell.execute_reply.started": "2022-03-22T05:02:18.037431Z"
    },
    "papermill": {
     "duration": 10.331062,
     "end_time": "2022-03-22T05:30:36.675428",
     "exception": false,
     "start_time": "2022-03-22T05:30:26.344366",
     "status": "completed"
    },
    "tags": []
   },
   "outputs": [],
   "source": [
    "final = [[0,0]]\n",
    "for i in range(N_SPLITS):\n",
    "    final = final + prob[i]\n",
    "    \n",
    "final = final/N_SPLITS\n",
    "y_pred = pd.Series([np.argmax([i]) for i in final])"
   ]
  },
  {
   "cell_type": "code",
   "execution_count": 28,
   "id": "af92f4fe",
   "metadata": {
    "execution": {
     "iopub.execute_input": "2022-03-22T05:30:36.784467Z",
     "iopub.status.busy": "2022-03-22T05:30:36.783274Z",
     "iopub.status.idle": "2022-03-22T05:30:36.877269Z",
     "shell.execute_reply": "2022-03-22T05:30:36.876667Z",
     "shell.execute_reply.started": "2022-03-22T05:05:44.922017Z"
    },
    "papermill": {
     "duration": 0.151595,
     "end_time": "2022-03-22T05:30:36.877411",
     "exception": false,
     "start_time": "2022-03-22T05:30:36.725816",
     "status": "completed"
    },
    "tags": []
   },
   "outputs": [
    {
     "name": "stdout",
     "output_type": "stream",
     "text": [
      "------------------------------------\n",
      "| Test Accuracy:- 99.976660558072% |\n",
      "------------------------------------\n"
     ]
    }
   ],
   "source": [
    "from sklearn.metrics import accuracy_score, confusion_matrix\n",
    "\n",
    "my_print(f'Test Accuracy:- {accuracy_score(y_test, y_pred)*100}%')"
   ]
  },
  {
   "cell_type": "code",
   "execution_count": 29,
   "id": "d39e5001",
   "metadata": {
    "execution": {
     "iopub.execute_input": "2022-03-22T05:30:36.986191Z",
     "iopub.status.busy": "2022-03-22T05:30:36.985471Z",
     "iopub.status.idle": "2022-03-22T05:30:37.433352Z",
     "shell.execute_reply": "2022-03-22T05:30:37.432780Z",
     "shell.execute_reply.started": "2022-03-22T05:07:08.041516Z"
    },
    "papermill": {
     "duration": 0.504364,
     "end_time": "2022-03-22T05:30:37.433501",
     "exception": false,
     "start_time": "2022-03-22T05:30:36.929137",
     "status": "completed"
    },
    "tags": []
   },
   "outputs": [
    {
     "data": {
      "image/png": "[encoded data removed]",
      "text/plain": [
       "<Figure size 432x288 with 2 Axes>"
      ]
     },
     "metadata": {},
     "output_type": "display_data"
    }
   ],
   "source": [
    "sns.heatmap(confusion_matrix(y_test, y_pred), cmap='cool_r', linewidths=0.5, annot=True);"
   ]
  }
 ],
 "metadata": {
  "kernelspec": {
   "display_name": "Python 3",
   "language": "python",
   "name": "python3"
  },
  "language_info": {
   "codemirror_mode": {
    "name": "ipython",
    "version": 3
   },
   "file_extension": ".py",
   "mimetype": "text/x-python",
   "name": "python",
   "nbconvert_exporter": "python",
   "pygments_lexer": "ipython3",
   "version": "3.7.12"
  },
  "papermill": {
   "default_parameters": {},
   "duration": 1316.57196,
   "end_time": "2022-03-22T05:30:39.507536",
   "environment_variables": {},
   "exception": null,
   "input_path": "__notebook__.ipynb",
   "output_path": "__notebook__.ipynb",
   "parameters": {},
   "start_time": "2022-03-22T05:08:42.935576",
   "version": "2.3.3"
  },
  "widgets": {
   "application/vnd.jupyter.widget-state+json": {
    "state": {
     "029f6356b10e491989f84ec53343dc3c": {
      "model_module": "@jupyter-widgets/controls",
      "model_module_version": "1.5.0",
      "model_name": "HTMLModel",
      "state": {
       "_dom_classes": [],
       "_model_module": "@jupyter-widgets/controls",
       "_model_module_version": "1.5.0",
       "_model_name": "HTMLModel",
       "_view_count": null,
       "_view_module": "@jupyter-widgets/controls",
       "_view_module_version": "1.5.0",
       "_view_name": "HTMLView",
       "description": "",
       "description_tooltip": null,
       "layout": "IPY_MODEL_6aa1e807c2ec4ed4959262ea6e9f3e9f",
       "placeholder": "​",
       "style": "IPY_MODEL_1d8920ee67754db596deb0b676de1802",
       "value": " 2/2 [18:53&lt;00:00, 565.59s/it]"
      }
     },
     "067e703478f540a49674deadf189a8de": {
      "model_module": "@jupyter-widgets/controls",
      "model_module_version": "1.5.0",
      "model_name": "HBoxModel",
      "state": {
       "_dom_classes": [],
       "_model_module": "@jupyter-widgets/controls",
       "_model_module_version": "1.5.0",
       "_model_name": "HBoxModel",
       "_view_count": null,
       "_view_module": "@jupyter-widgets/controls",
       "_view_module_version": "1.5.0",
       "_view_name": "HBoxView",
       "box_style": "",
       "children": [
        "IPY_MODEL_626d5fb02f7d44b692dc097f73b05e10",
        "IPY_MODEL_2dc08379430f4ce68f91dcdf90c070d6",
        "IPY_MODEL_029f6356b10e491989f84ec53343dc3c"
       ],
       "layout": "IPY_MODEL_9123b722e0414efd92dc41cf75374e55"
      }
     },
     "1d8920ee67754db596deb0b676de1802": {
      "model_module": "@jupyter-widgets/controls",
      "model_module_version": "1.5.0",
      "model_name": "DescriptionStyleModel",
      "state": {
       "_model_module": "@jupyter-widgets/controls",
       "_model_module_version": "1.5.0",
       "_model_name": "DescriptionStyleModel",
       "_view_count": null,
       "_view_module": "@jupyter-widgets/base",
       "_view_module_version": "1.2.0",
       "_view_name": "StyleView",
       "description_width": ""
      }
     },
     "2dc08379430f4ce68f91dcdf90c070d6": {
      "model_module": "@jupyter-widgets/controls",
      "model_module_version": "1.5.0",
      "model_name": "FloatProgressModel",
      "state": {
       "_dom_classes": [],
       "_model_module": "@jupyter-widgets/controls",
       "_model_module_version": "1.5.0",
       "_model_name": "FloatProgressModel",
       "_view_count": null,
       "_view_module": "@jupyter-widgets/controls",
       "_view_module_version": "1.5.0",
       "_view_name": "ProgressView",
       "bar_style": "success",
       "description": "",
       "description_tooltip": null,
       "layout": "IPY_MODEL_f6146d8b8f85465681e3e6c4e6e4ced4",
       "max": 2.0,
       "min": 0.0,
       "orientation": "horizontal",
       "style": "IPY_MODEL_69df7d272e6f441fad93ced0c052cde2",
       "value": 2.0
      }
     },
     "626d5fb02f7d44b692dc097f73b05e10": {
      "model_module": "@jupyter-widgets/controls",
      "model_module_version": "1.5.0",
      "model_name": "HTMLModel",
      "state": {
       "_dom_classes": [],
       "_model_module": "@jupyter-widgets/controls",
       "_model_module_version": "1.5.0",
       "_model_name": "HTMLModel",
       "_view_count": null,
       "_view_module": "@jupyter-widgets/controls",
       "_view_module_version": "1.5.0",
       "_view_name": "HTMLView",
       "description": "",
       "description_tooltip": null,
       "layout": "IPY_MODEL_f8ed5157203b430d90e33ff74843bb3e",
       "placeholder": "​",
       "style": "IPY_MODEL_b1eaceb4b868425e8dbb3492c3c23bb4",
       "value": "100%"
      }
     },
     "69df7d272e6f441fad93ced0c052cde2": {
      "model_module": "@jupyter-widgets/controls",
      "model_module_version": "1.5.0",
      "model_name": "ProgressStyleModel",
      "state": {
       "_model_module": "@jupyter-widgets/controls",
       "_model_module_version": "1.5.0",
       "_model_name": "ProgressStyleModel",
       "_view_count": null,
       "_view_module": "@jupyter-widgets/base",
       "_view_module_version": "1.2.0",
       "_view_name": "StyleView",
       "bar_color": null,
       "description_width": ""
      }
     },
     "6aa1e807c2ec4ed4959262ea6e9f3e9f": {
      "model_module": "@jupyter-widgets/base",
      "model_module_version": "1.2.0",
      "model_name": "LayoutModel",
      "state": {
       "_model_module": "@jupyter-widgets/base",
       "_model_module_version": "1.2.0",
       "_model_name": "LayoutModel",
       "_view_count": null,
       "_view_module": "@jupyter-widgets/base",
       "_view_module_version": "1.2.0",
       "_view_name": "LayoutView",
       "align_content": null,
       "align_items": null,
       "align_self": null,
       "border": null,
       "bottom": null,
       "display": null,
       "flex": null,
       "flex_flow": null,
       "grid_area": null,
       "grid_auto_columns": null,
       "grid_auto_flow": null,
       "grid_auto_rows": null,
       "grid_column": null,
       "grid_gap": null,
       "grid_row": null,
       "grid_template_areas": null,
       "grid_template_columns": null,
       "grid_template_rows": null,
       "height": null,
       "justify_content": null,
       "justify_items": null,
       "left": null,
       "margin": null,
       "max_height": null,
       "max_width": null,
       "min_height": null,
       "min_width": null,
       "object_fit": null,
       "object_position": null,
       "order": null,
       "overflow": null,
       "overflow_x": null,
       "overflow_y": null,
       "padding": null,
       "right": null,
       "top": null,
       "visibility": null,
       "width": null
      }
     },
     "9123b722e0414efd92dc41cf75374e55": {
      "model_module": "@jupyter-widgets/base",
      "model_module_version": "1.2.0",
      "model_name": "LayoutModel",
      "state": {
       "_model_module": "@jupyter-widgets/base",
       "_model_module_version": "1.2.0",
       "_model_name": "LayoutModel",
       "_view_count": null,
       "_view_module": "@jupyter-widgets/base",
       "_view_module_version": "1.2.0",
       "_view_name": "LayoutView",
       "align_content": null,
       "align_items": null,
       "align_self": null,
       "border": null,
       "bottom": null,
       "display": null,
       "flex": null,
       "flex_flow": null,
       "grid_area": null,
       "grid_auto_columns": null,
       "grid_auto_flow": null,
       "grid_auto_rows": null,
       "grid_column": null,
       "grid_gap": null,
       "grid_row": null,
       "grid_template_areas": null,
       "grid_template_columns": null,
       "grid_template_rows": null,
       "height": null,
       "justify_content": null,
       "justify_items": null,
       "left": null,
       "margin": null,
       "max_height": null,
       "max_width": null,
       "min_height": null,
       "min_width": null,
       "object_fit": null,
       "object_position": null,
       "order": null,
       "overflow": null,
       "overflow_x": null,
       "overflow_y": null,
       "padding": null,
       "right": null,
       "top": null,
       "visibility": null,
       "width": null
      }
     },
     "b1eaceb4b868425e8dbb3492c3c23bb4": {
      "model_module": "@jupyter-widgets/controls",
      "model_module_version": "1.5.0",
      "model_name": "DescriptionStyleModel",
      "state": {
       "_model_module": "@jupyter-widgets/controls",
       "_model_module_version": "1.5.0",
       "_model_name": "DescriptionStyleModel",
       "_view_count": null,
       "_view_module": "@jupyter-widgets/base",
       "_view_module_version": "1.2.0",
       "_view_name": "StyleView",
       "description_width": ""
      }
     },
     "f6146d8b8f85465681e3e6c4e6e4ced4": {
      "model_module": "@jupyter-widgets/base",
      "model_module_version": "1.2.0",
      "model_name": "LayoutModel",
      "state": {
       "_model_module": "@jupyter-widgets/base",
       "_model_module_version": "1.2.0",
       "_model_name": "LayoutModel",
       "_view_count": null,
       "_view_module": "@jupyter-widgets/base",
       "_view_module_version": "1.2.0",
       "_view_name": "LayoutView",
       "align_content": null,
       "align_items": null,
       "align_self": null,
       "border": null,
       "bottom": null,
       "display": null,
       "flex": null,
       "flex_flow": null,
       "grid_area": null,
       "grid_auto_columns": null,
       "grid_auto_flow": null,
       "grid_auto_rows": null,
       "grid_column": null,
       "grid_gap": null,
       "grid_row": null,
       "grid_template_areas": null,
       "grid_template_columns": null,
       "grid_template_rows": null,
       "height": null,
       "justify_content": null,
       "justify_items": null,
       "left": null,
       "margin": null,
       "max_height": null,
       "max_width": null,
       "min_height": null,
       "min_width": null,
       "object_fit": null,
       "object_position": null,
       "order": null,
       "overflow": null,
       "overflow_x": null,
       "overflow_y": null,
       "padding": null,
       "right": null,
       "top": null,
       "visibility": null,
       "width": null
      }
     },
     "f8ed5157203b430d90e33ff74843bb3e": {
      "model_module": "@jupyter-widgets/base",
      "model_module_version": "1.2.0",
      "model_name": "LayoutModel",
      "state": {
       "_model_module": "@jupyter-widgets/base",
       "_model_module_version": "1.2.0",
       "_model_name": "LayoutModel",
       "_view_count": null,
       "_view_module": "@jupyter-widgets/base",
       "_view_module_version": "1.2.0",
       "_view_name": "LayoutView",
       "align_content": null,
       "align_items": null,
       "align_self": null,
       "border": null,
       "bottom": null,
       "display": null,
       "flex": null,
       "flex_flow": null,
       "grid_area": null,
       "grid_auto_columns": null,
       "grid_auto_flow": null,
       "grid_auto_rows": null,
       "grid_column": null,
       "grid_gap": null,
       "grid_row": null,
       "grid_template_areas": null,
       "grid_template_columns": null,
       "grid_template_rows": null,
       "height": null,
       "justify_content": null,
       "justify_items": null,
       "left": null,
       "margin": null,
       "max_height": null,
       "max_width": null,
       "min_height": null,
       "min_width": null,
       "object_fit": null,
       "object_position": null,
       "order": null,
       "overflow": null,
       "overflow_x": null,
       "overflow_y": null,
       "padding": null,
       "right": null,
       "top": null,
       "visibility": null,
       "width": null
      }
     }
    },
    "version_major": 2,
    "version_minor": 0
   }
  }
 },
 "nbformat": 4,
 "nbformat_minor": 5
}
